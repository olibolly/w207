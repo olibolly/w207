{
 "cells": [
  {
   "cell_type": "markdown",
   "metadata": {},
   "source": [
    "# Project 2: Topic Classification"
   ]
  },
  {
   "cell_type": "markdown",
   "metadata": {},
   "source": [
    "In this project, you'll work with text data from newsgroup postings on a variety of topics. You'll train classifiers to distinguish between the topics based on the text of the posts. Whereas with digit classification, the input is relatively dense: a 28x28 matrix of pixels, many of which are non-zero, here we'll represent each document with a \"bag-of-words\" model. As you'll see, this makes the feature representation quite sparse -- only a few words of the total vocabulary are active in any given document. The bag-of-words assumption here is that the label depends only on the words; their order is not important.\n",
    "\n",
    "The SK-learn documentation on feature extraction will prove useful:\n",
    "http://scikit-learn.org/stable/modules/feature_extraction.html\n",
    "\n",
    "Each problem can be addressed succinctly with the included packages -- please don't add any more. Grading will be based on writing clean, commented code, along with a few short answers.\n",
    "\n",
    "As always, you're welcome to work on the project in groups and discuss ideas on the course wall, but please prepare your own write-up and write your own code."
   ]
  },
  {
   "cell_type": "code",
   "execution_count": 9,
   "metadata": {
    "collapsed": false
   },
   "outputs": [],
   "source": [
    "# This tells matplotlib not to try opening a new window for each plot.\n",
    "%matplotlib inline\n",
    "\n",
    "# General libraries.\n",
    "import re\n",
    "import numpy as np\n",
    "import matplotlib.pyplot as plt\n",
    "\n",
    "# SK-learn libraries for learning.\n",
    "from sklearn.pipeline import Pipeline\n",
    "from sklearn.neighbors import KNeighborsClassifier\n",
    "from sklearn.linear_model import LogisticRegression\n",
    "from sklearn.naive_bayes import BernoulliNB\n",
    "from sklearn.naive_bayes import MultinomialNB\n",
    "from sklearn.grid_search import GridSearchCV\n",
    "\n",
    "# SK-learn libraries for evaluation.\n",
    "from sklearn.metrics import confusion_matrix\n",
    "from sklearn import metrics\n",
    "from sklearn.metrics import classification_report\n",
    "\n",
    "# SK-learn library for importing the newsgroup data.\n",
    "from sklearn.datasets import fetch_20newsgroups\n",
    "\n",
    "# SK-learn libraries for feature extraction from text.\n",
    "from sklearn.feature_extraction.text import *"
   ]
  },
  {
   "cell_type": "markdown",
   "metadata": {},
   "source": [
    "Load the data, stripping out metadata so that we learn classifiers that only use textual features. By default, newsgroups data is split into train and test sets. We further split the test so we have a dev set. Note that we specify 4 categories to use for this project. If you remove the categories argument from the fetch function, you'll get all 20 categories."
   ]
  },
  {
   "cell_type": "code",
   "execution_count": 10,
   "metadata": {
    "collapsed": false
   },
   "outputs": [
    {
     "name": "stdout",
     "output_type": "stream",
     "text": [
      "training label shape: (2034,)\n",
      "test label shape: (677,)\n",
      "dev label shape: (676,)\n",
      "labels names: ['alt.atheism', 'comp.graphics', 'sci.space', 'talk.religion.misc']\n"
     ]
    }
   ],
   "source": [
    "categories = ['alt.atheism', 'talk.religion.misc', 'comp.graphics', 'sci.space']\n",
    "newsgroups_train = fetch_20newsgroups(subset='train',\n",
    "                                      remove=('headers', 'footers', 'quotes'),\n",
    "                                      categories=categories)\n",
    "newsgroups_test = fetch_20newsgroups(subset='test',\n",
    "                                     remove=('headers', 'footers', 'quotes'),\n",
    "                                     categories=categories)\n",
    "\n",
    "num_test = len(newsgroups_test.target)\n",
    "test_data, test_labels = newsgroups_test.data[num_test/2:], newsgroups_test.target[num_test/2:]\n",
    "dev_data, dev_labels = newsgroups_test.data[:num_test/2], newsgroups_test.target[:num_test/2]\n",
    "train_data, train_labels = newsgroups_train.data, newsgroups_train.target\n",
    "\n",
    "print 'training label shape:', train_labels.shape\n",
    "print 'test label shape:', test_labels.shape\n",
    "print 'dev label shape:', dev_labels.shape\n",
    "print 'labels names:', newsgroups_train.target_names"
   ]
  },
  {
   "cell_type": "markdown",
   "metadata": {},
   "source": [
    "## Question 1\n",
    "\n",
    "(1) For each of the first 5 training examples, print the text of the message along with the label."
   ]
  },
  {
   "cell_type": "code",
   "execution_count": 11,
   "metadata": {
    "collapsed": false
   },
   "outputs": [
    {
     "name": "stdout",
     "output_type": "stream",
     "text": [
      "LABEL 1\n",
      "Hi,\n",
      "\n",
      "I've noticed that if you only save a model (with all your mapping planes\n",
      "positioned carefully) to a .3DS file that when you reload it after restarting\n",
      "3DS, they are given a default position and orientation.  But if you save\n",
      "to a .PRJ file their positions/orientation are preserved.  Does anyone\n",
      "know why this information is not stored in the .3DS file?  Nothing is\n",
      "explicitly said in the manual about saving texture rules in the .PRJ file. \n",
      "I'd like to be able to read the texture rule information, does anyone have \n",
      "the format for the .PRJ file?\n",
      "\n",
      "Is the .CEL file format available from somewhere?\n",
      "\n",
      "Rych\n",
      "LABEL 3\n",
      "\n",
      "\n",
      "Seems to be, barring evidence to the contrary, that Koresh was simply\n",
      "another deranged fanatic who thought it neccessary to take a whole bunch of\n",
      "folks with him, children and all, to satisfy his delusional mania. Jim\n",
      "Jones, circa 1993.\n",
      "\n",
      "\n",
      "Nope - fruitcakes like Koresh have been demonstrating such evil corruption\n",
      "for centuries.\n",
      "LABEL 2\n",
      "\n",
      " >In article <1993Apr19.020359.26996@sq.sq.com>, msb@sq.sq.com (Mark Brader) \n",
      "\n",
      "MB>                                                             So the\n",
      "MB> 1970 figure seems unlikely to actually be anything but a perijove.\n",
      "\n",
      "JG>Sorry, _perijoves_...I'm not used to talking this language.\n",
      "\n",
      "Couldn't we just say periapsis or apoapsis?\n",
      "\n",
      " \n",
      "LABEL 0\n",
      "I have a request for those who would like to see Charley Wingate\n",
      "respond to the \"Charley Challenges\" (and judging from my e-mail, there\n",
      "appear to be quite a few of you.)  \n",
      "\n",
      "It is clear that Mr. Wingate intends to continue to post tangential or\n",
      "unrelated articles while ingoring the Challenges themselves.  Between\n",
      "the last two re-postings of the Challenges, I noted perhaps a dozen or\n",
      "more posts by Mr. Wingate, none of which answered a single Challenge.  \n",
      "\n",
      "It seems unmistakable to me that Mr. Wingate hopes that the questions\n",
      "will just go away, and he is doing his level best to change the\n",
      "subject.  Given that this seems a rather common net.theist tactic, I\n",
      "would like to suggest that we impress upon him our desire for answers,\n",
      "in the following manner:\n",
      "\n",
      "1. Ignore any future articles by Mr. Wingate that do not address the\n",
      "Challenges, until he answers them or explictly announces that he\n",
      "refuses to do so.\n",
      "\n",
      "--or--\n",
      "\n",
      "2. If you must respond to one of his articles, include within it\n",
      "something similar to the following:\n",
      "\n",
      "    \"Please answer the questions posed to you in the Charley Challenges.\"\n",
      "\n",
      "Really, I'm not looking to humiliate anyone here, I just want some\n",
      "honest answers.  You wouldn't think that honesty would be too much to\n",
      "ask from a devout Christian, would you?  \n",
      "\n",
      "Nevermind, that was a rhetorical question.\n",
      "LABEL 2\n",
      "AW&ST  had a brief blurb on a Manned Lunar Exploration confernce\n",
      "May 7th  at Crystal City Virginia, under the auspices of AIAA.\n",
      "\n",
      "Does anyone know more about this?  How much, to attend????\n",
      "\n",
      "Anyone want to go?\n"
     ]
    }
   ],
   "source": [
    "#def P1(num_examples=5):\n",
    "### STUDENT START ###\n",
    "for i in range(0,5):\n",
    "    print 'LABEL %d' %train_labels[i]\n",
    "    print train_data[i]\n",
    "### STUDENT END ###\n",
    "#P1()"
   ]
  },
  {
   "cell_type": "markdown",
   "metadata": {},
   "source": [
    "## Question 2\n",
    "\n",
    "(2) Use CountVectorizer to turn the raw training text into feature vectors. You should use the fit_transform function, which makes 2 passes through the data: first it computes the vocabulary (\"fit\"), second it converts the raw text into feature vectors using the vocabulary (\"transform\").\n",
    "\n",
    "The vectorizer has a lot of options. To get familiar with some of them, write code to answer these questions:\n",
    "\n",
    "a. The output of the transform (also of fit_transform) is a sparse matrix: http://docs.scipy.org/doc/scipy-0.14.0/reference/generated/scipy.sparse.csr_matrix.html. What is the size of the vocabulary? What is the average number of non-zero features per example? What fraction of the entries in the matrix are non-zero? Hint: use \"nnz\" and \"shape\" attributes.\n",
    "\n",
    "b. What are the 0th and last feature strings (in alphabetical order)? Hint: use the vectorizer's get_feature_names function.\n",
    "\n",
    "c. Specify your own vocabulary with 4 words: [\"atheism\", \"graphics\", \"space\", \"religion\"]. Confirm the training vectors are appropriately shaped. Now what's the average number of non-zero features per example?\n",
    "\n",
    "d. Instead of extracting unigram word features, use \"analyzer\" and \"ngram_range\" to extract bigram and trigram character features. What size vocabulary does this yield?\n",
    "\n",
    "e. Use the \"min_df\" argument to prune words that appear in fewer than 10 documents. What size vocabulary does this yield?\n",
    "\n",
    "f. Using the standard CountVectorizer, what fraction of the words in the dev data are missing from the vocabulary? Hint: build a vocabulary for both train and dev and look at the size of the difference."
   ]
  },
  {
   "cell_type": "code",
   "execution_count": 12,
   "metadata": {
    "collapsed": false
   },
   "outputs": [
    {
     "name": "stdout",
     "output_type": "stream",
     "text": [
      "Size of vocabulary is 26879 features\n",
      "Average number of non-zero features is 96 per example\n",
      "fraction of entries being non-zero 0.00360\n"
     ]
    }
   ],
   "source": [
    "# a\n",
    "vectorizer = CountVectorizer()\n",
    "vectors = vectorizer.fit_transform(train_data)\n",
    "average_number_features = vectors.nnz/vectors.shape[0]\n",
    "fraction_nnz_of_matrix = float(vectors.nnz)/(vectors.shape[0] * vectors.shape[1])\n",
    "\n",
    "print 'Size of vocabulary is %d features' %vectors.shape[1]\n",
    "print 'Average number of non-zero features is %d per example' %average_number_features\n",
    "print 'fraction of entries being non-zero %.5f' % fraction_nnz_of_matrix"
   ]
  },
  {
   "cell_type": "code",
   "execution_count": 13,
   "metadata": {
    "collapsed": false
   },
   "outputs": [
    {
     "name": "stdout",
     "output_type": "stream",
     "text": [
      "First feature string: 00\n",
      "Last feature string: zyxel\n"
     ]
    }
   ],
   "source": [
    "# b What are the 0th and last feature strings (in alphabetical order)?\n",
    "print 'First feature string: %s' %vectorizer.get_feature_names()[0]\n",
    "print 'Last feature string: %s' %vectorizer.get_feature_names()[-1]"
   ]
  },
  {
   "cell_type": "code",
   "execution_count": 14,
   "metadata": {
    "collapsed": false
   },
   "outputs": [
    {
     "name": "stdout",
     "output_type": "stream",
     "text": [
      "(2034, 4)\n",
      "Average number of non-zero features is 0.27 per example\n"
     ]
    }
   ],
   "source": [
    "# c Specify your own vocabulary with 4 words\n",
    "short_vocabulary = [\"atheism\", \"graphics\", \"space\", \"religion\"]\n",
    "vectorizer = CountVectorizer(vocabulary = short_vocabulary)\n",
    "vectors = vectorizer.fit_transform(train_data)\n",
    "print vectors.shape\n",
    "average_number_features = float(vectors.nnz)/vectors.shape[0]\n",
    "print 'Average number of non-zero features is %.2f per example' %average_number_features"
   ]
  },
  {
   "cell_type": "code",
   "execution_count": 26,
   "metadata": {
    "collapsed": false
   },
   "outputs": [
    {
     "name": "stdout",
     "output_type": "stream",
     "text": [
      "Numbers of features for a bigram: 221770\n",
      "Numbers of features for a trigram: 537462\n",
      "Example of bigrams:[u'demonstrating such', u'such evil', u'evil corruption', u'corruption for', u'for centuries']\n"
     ]
    }
   ],
   "source": [
    "# d extract bigram and trigram character features\n",
    "bigram_vectorizer = CountVectorizer(ngram_range=(1, 2))\n",
    "vectors = bigram_vectorizer.fit_transform(train_data)\n",
    "print \"Numbers of features for a bigram: %d\" %vectors.shape[1]\n",
    "\n",
    "trigram_vectorizer = CountVectorizer(ngram_range=(1, 3))\n",
    "vectors = trigram_vectorizer.fit_transform(train_data)\n",
    "print \"Numbers of features for a trigram: %d\" %vectors.shape[1]\n",
    "\n",
    "analyze = bigram_vectorizer.build_analyzer()\n",
    "bigram_example = analyze(train_data[1])\n",
    "print 'Example of bigrams:' + str((bigram_example[-5:]))"
   ]
  },
  {
   "cell_type": "code",
   "execution_count": 18,
   "metadata": {
    "collapsed": false
   },
   "outputs": [
    {
     "name": "stdout",
     "output_type": "stream",
     "text": [
      "Size of vocabulary is 3064 features\n"
     ]
    }
   ],
   "source": [
    "# e prune words that appear in fewer than 10 documents\n",
    "vectorizer = CountVectorizer(min_df = 10)\n",
    "vectors = vectorizer.fit_transform(train_data)\n",
    "vectors.shape\n",
    "print 'Size of vocabulary is %d features' %vectors.shape[1]"
   ]
  },
  {
   "cell_type": "code",
   "execution_count": 19,
   "metadata": {
    "collapsed": false
   },
   "outputs": [
    {
     "name": "stdout",
     "output_type": "stream",
     "text": [
      "Fraction of vocabulary missing 0.248\n"
     ]
    }
   ],
   "source": [
    "#f what fraction of the words in the dev data are missing from the vocabulary\n",
    "vectorizer_train = CountVectorizer()\n",
    "vectors_train = vectorizer_train.fit_transform(train_data)\n",
    "voc_train = vectorizer_train.get_feature_names()\n",
    "\n",
    "\n",
    "vectorizer_dev = CountVectorizer()\n",
    "vectors_dev = vectorizer_dev.fit_transform(dev_data)\n",
    "voc_dev = vectorizer_dev.get_feature_names()\n",
    "\n",
    "common_vocabulary = set(voc_dev).intersection(voc_train)\n",
    "fraction_missing = float(vectors_dev.shape[1] - len(common_vocabulary))/vectors_dev.shape[1]\n",
    "print 'Fraction of vocabulary missing %.3f' %fraction_missing"
   ]
  },
  {
   "cell_type": "markdown",
   "metadata": {},
   "source": [
    "## Question 3\n",
    "\n",
    "(3) Use the default CountVectorizer options and report the f1 score (use metrics.f1_score) for a k nearest neighbors classifier; find the optimal value for k. Also fit a Multinomial Naive Bayes model and find the optimal value for alpha. Finally, fit a logistic regression model and find the optimal value for the regularization strength C using l2 regularization. A few questions:\n",
    "\n",
    "a. Why doesn't nearest neighbors work well for this problem?\n",
    "\n",
    "b. Any ideas why logistic regression doesn't work as well as Naive Bayes?\n",
    "\n",
    "c. Logistic regression estimates a weight vector for each class, which you can access with the coef\\_ attribute. Output the sum of the squared weight values for each class for each setting of the C parameter. Briefly explain the relationship between the sum and the value of C."
   ]
  },
  {
   "cell_type": "code",
   "execution_count": 20,
   "metadata": {
    "collapsed": false
   },
   "outputs": [
    {
     "name": "stderr",
     "output_type": "stream",
     "text": [
      "/Users/ozimmer/anaconda/lib/python2.7/site-packages/sklearn/naive_bayes.py:664: RuntimeWarning: divide by zero encountered in log\n",
      "  self.feature_log_prob_ = (np.log(smoothed_fc)\n"
     ]
    },
    {
     "name": "stdout",
     "output_type": "stream",
     "text": [
      "F1 score for Multinomial Naive Bayes: 0.755\n",
      "F1 score for Nearest Neighbors: 0.413\n",
      "F1 score for Logistic Regression: 0.692\n"
     ]
    }
   ],
   "source": [
    "vectorizer = CountVectorizer()\n",
    "vectors = vectorizer.fit_transform(train_data)\n",
    "vectors_test = vectorizer.transform(dev_data)\n",
    "\n",
    "# Multinomial Naive Bayes\n",
    "alphas = {'alpha':[0.0, 0.0001, 0.001, 0.01, 0.1, 0.5, 1.0, 2.0, 10.0]}\n",
    "multi = MultinomialNB()\n",
    "clf = GridSearchCV(multi, alphas)\n",
    "clf.fit(vectors, train_labels)\n",
    "pred = clf.predict(vectors_test)\n",
    "print 'F1 score for Multinomial Naive Bayes: %.3f' %(metrics.f1_score(dev_labels, \n",
    "                                                                      pred, average='macro'))\n",
    "# Nearest neighbors\n",
    "ks = {'n_neighbors': range(1, 11)}\n",
    "kn = KNeighborsClassifier()\n",
    "clf = GridSearchCV(kn, ks)\n",
    "clf.fit(vectors, train_labels)\n",
    "pred = clf.predict(vectors_test)\n",
    "print 'F1 score for Nearest Neighbors: %.3f' %(metrics.f1_score(dev_labels, \n",
    "                                                                pred, average='macro'))\n",
    "# Logistic regression\n",
    "cs = {'C':[0.0001, 0.001, 0.01, 0.1, 0.5, 1.0, 2.0, 10.0]}\n",
    "lo = LogisticRegression(penalty='l2')\n",
    "clf = GridSearchCV(lo, cs)\n",
    "clf.fit(vectors, train_labels)\n",
    "pred = clf.predict(vectors_test)\n",
    "print 'F1 score for Logistic Regression: %.3f' %(metrics.f1_score(dev_labels, \n",
    "                                                                  pred, average='macro'))"
   ]
  },
  {
   "cell_type": "code",
   "execution_count": 27,
   "metadata": {
    "collapsed": false
   },
   "outputs": [
    {
     "name": "stdout",
     "output_type": "stream",
     "text": [
      "C parameter of: 0.000\n",
      "Sum of squares for each class: [0.01, 0.01, 0.01, 0.01]\n",
      "C parameter of: 0.001\n",
      "Sum of squares for each class: [0.22, 0.24, 0.23, 0.23]\n",
      "C parameter of: 0.010\n",
      "Sum of squares for each class: [3.23, 3.33, 3.41, 2.84]\n",
      "C parameter of: 0.100\n",
      "Sum of squares for each class: [24.46, 22.96, 25.54, 21.61]\n",
      "C parameter of: 0.500\n",
      "Sum of squares for each class: [67.79, 61.8, 69.74, 60.9]\n",
      "C parameter of: 1.000\n",
      "Sum of squares for each class: [97.09, 88.29, 99.52, 88.29]\n",
      "C parameter of: 2.000\n",
      "Sum of squares for each class: [134.17, 122.41, 137.11, 123.94]\n",
      "C parameter of: 10.000\n",
      "Sum of squares for each class: [256.03, 237.71, 261.02, 244.77]\n"
     ]
    }
   ],
   "source": [
    "# Logistic regression - relationship between the sum of square and the value of C\n",
    "cs = {'C':[0.0001, 0.001, 0.01, 0.1, 0.5, 1.0, 2.0, 10.0]}\n",
    "\n",
    "def sum_of_squares(n):\n",
    "    return round(sum([i**2 for i in n]), 2)\n",
    "\n",
    "for c in cs['C']:\n",
    "    lo = LogisticRegression(penalty='l2', C=c)\n",
    "    lo.fit(vectors, train_labels)\n",
    "    print 'C parameter of: %.3f' %c\n",
    "    print 'Sum of squares for each class: ' + str([sum_of_squares(lo.coef_[i,]) \n",
    "                                                 for i in range(0, lo.coef_.shape[0])])"
   ]
  },
  {
   "cell_type": "markdown",
   "metadata": {},
   "source": [
    "ANSWER:\n",
    "\n",
    "### question a\n",
    "There are too many features (in this model 26879 words) for nearest neighbors. Whereas Naive Bayes take into account a broader set of features, the current model for knn takes into account 5 neighbors only, thus the poor performance.\n",
    "\n",
    "### question b\n",
    "Naive Bayes has the independence assumption, if 2 features are heavily weighted towards a label, their weight will add up. Logistic regression looks at linear relation between the labels and the features - the 2 same features with high contribution will have have their weight lower down if being strongly correlated to each other (collinearity issue). \n",
    "\n",
    "### question c\n",
    "\n",
    "C is the inverse regularization strength (in this case L2), the stronger the regularisation the closer the weights will be to 0 -> thus smaller sum of squares with smaller C"
   ]
  },
  {
   "cell_type": "markdown",
   "metadata": {},
   "source": [
    "## Question 4\n",
    "\n",
    "(4) Train a logistic regression model. Find the 5 features with the largest weights for each label -- 20 features in total. Create a table with 20 rows and 4 columns that shows the weight for each of these features for each of the labels. Create the table again with bigram features. Any surprising features in this table?"
   ]
  },
  {
   "cell_type": "code",
   "execution_count": 28,
   "metadata": {
    "collapsed": false
   },
   "outputs": [
    {
     "name": "stdout",
     "output_type": "stream",
     "text": [
      "[u'atheism', u'religion', u'bobby', u'atheists', u'deletion', u'computer', u'3d', u'file', u'image', u'graphics', u'spacecraft', u'launch', u'nasa', u'orbit', u'space', u'order', u'fbi', u'blood', u'christian', u'christians']\n",
      "[[ 0.93973023 -0.4103703  -0.44948498 -0.43475441]\n",
      " [ 0.95393712 -0.6169444  -0.79236897 -0.06440608]\n",
      " [ 0.98986627 -0.2208606  -0.3406296  -0.46337993]\n",
      " [ 1.03072037 -0.09716371 -0.32093796 -0.83516006]\n",
      " [ 1.12523474 -0.3980162  -0.42048434 -0.39552433]\n",
      " [ 0.14386287  0.97770855 -0.68186034 -0.48729047]\n",
      " [-0.35894574  1.12498035 -0.70207303 -0.37830812]\n",
      " [-0.33471196  1.266456   -0.80664706 -0.62679561]\n",
      " [-0.58283779  1.34628462 -0.82622764 -0.46842352]\n",
      " [-0.75835629  1.93658844 -1.33605119 -0.7627053 ]\n",
      " [-0.35549769 -0.39339767  0.9199665  -0.38058228]\n",
      " [-0.47069137 -0.46529323  0.9364947  -0.33233669]\n",
      " [-0.57248653 -0.47929421  1.01140019 -0.46764634]\n",
      " [-0.41389561 -0.671399    1.22479915 -0.6292181 ]\n",
      " [-1.26033166 -1.31591209  2.16236714 -1.17080998]\n",
      " [-0.79355784 -0.07952418 -0.14904345  0.90530093]\n",
      " [-0.30883448 -0.27362565 -0.44809399  0.91271524]\n",
      " [-0.53321743 -0.10686009 -0.31603538  1.05448063]\n",
      " [-0.60770186 -0.41853159 -0.27041499  1.11772149]\n",
      " [-0.74020765 -0.40911955 -0.52498471  1.147971  ]]\n",
      "[u'up', u'atheists', u'atheism', u'religion', u'deletion', u'hi', u'3d', u'image', u'file', u'graphics', u'spacecraft', u'launch', u'nasa', u'orbit', u'space', u'see', u'fbi', u'critus', u'christian', u'christians']\n",
      "[[ 0.59901284 -0.20284592 -0.30446832 -0.24077349]\n",
      " [ 0.61055445 -0.09417618 -0.19921722 -0.39309153]\n",
      " [ 0.64564033 -0.24844649 -0.27967941 -0.28440305]\n",
      " [ 0.75512126 -0.42022312 -0.51887088 -0.02711107]\n",
      " [ 1.17903265 -0.39567176 -0.38879864 -0.3796125 ]\n",
      " [-0.25657123  0.690583   -0.42153302 -0.31926704]\n",
      " [-0.24191348  0.76558466 -0.47694247 -0.24806173]\n",
      " [-0.39131539  0.94329038 -0.53336008 -0.35896243]\n",
      " [-0.26543878  0.94489221 -0.61260947 -0.46205589]\n",
      " [-0.56877234  1.51200485 -0.99481412 -0.5606031 ]\n",
      " [-0.22085931 -0.23810576  0.56261425 -0.2597119 ]\n",
      " [-0.28982509 -0.31133881  0.66424149 -0.2464525 ]\n",
      " [-0.4060243  -0.37798559  0.78439855 -0.32456147]\n",
      " [-0.31112182 -0.4267019   0.82655867 -0.350001  ]\n",
      " [-0.87267449 -1.07090479  1.86198737 -0.84233583]\n",
      " [-0.37864143 -0.28665355  0.05039245  0.54509524]\n",
      " [-0.18465389 -0.16594508 -0.27047833  0.55285427]\n",
      " [-0.16766915 -0.21354386 -0.20367175  0.64554291]\n",
      " [-0.39891569 -0.2759659  -0.20832419  0.77773024]\n",
      " [-0.46779366 -0.31614651 -0.36182343  0.84549131]]\n"
     ]
    }
   ],
   "source": [
    "# Function to map the top 5 coeff per classes\n",
    "def logistic_reg_top_5(ngram, train_data, dev_data, train_labels):\n",
    "    vectorizer = CountVectorizer(ngram_range=(1, ngram))\n",
    "    vectors = vectorizer.fit_transform(train_data)\n",
    "    vectors_test = vectorizer.transform(dev_data)\n",
    "\n",
    "    lo = LogisticRegression(penalty='l2', C = 1.0)\n",
    "    lo.fit(vectors, train_labels)\n",
    "    pred = lo.predict(vectors_test)\n",
    "\n",
    "    np_coeff = np.zeros(20)\n",
    "    table_coeff = np.zeros((20, 4))\n",
    "\n",
    "    for i in range(0,4):\n",
    "        np_coeff[0 + 5*i:5 + 5*i] = lo.coef_[i,].argsort()[-5:]\n",
    "    list_coeff = map(int, np_coeff.tolist())\n",
    "    print[vectorizer.get_feature_names()[j] for j in list_coeff]\n",
    "\n",
    "    for i in range(0,4):\n",
    "        table_coeff[0:20, i] = lo.coef_[i,][list_coeff]\n",
    "    print(table_coeff)\n",
    "\n",
    "# Creating the top 5 coeff table for unigram & bigram\n",
    "logistic_reg_top_5(1, train_data, dev_data, train_labels)\n",
    "logistic_reg_top_5(2, train_data, dev_data, train_labels)"
   ]
  },
  {
   "cell_type": "markdown",
   "metadata": {},
   "source": [
    "ANSWER: Bigram logistic regression has an impact on the weight of the features, the weights are lower as probably there are more features taken into account into the model. Seems also surprising to see features such \"hi\" or \"see\" that seem very generic to be know in our top 20 table."
   ]
  },
  {
   "cell_type": "markdown",
   "metadata": {},
   "source": [
    "## Question 5\n",
    "\n",
    "(5) Try to improve the logistic regression classifier by passing a custom preprocessor to CountVectorizer. The preprocessing function runs on the raw text, before it is split into words by the tokenizer. Your preprocessor should try to normalize the input in various ways to improve generalization. For example, try lowercasing everything, replacing sequences of numbers with a single token, removing various other non-letter characters, and shortening long words. If you're not already familiar with regular expressions for manipulating strings, see https://docs.python.org/2/library/re.html, and re.sub() in particular. With your new preprocessor, how much did you reduce the size of the dictionary?\n",
    "\n",
    "For reference, I was able to improve dev F1 by 2 points."
   ]
  },
  {
   "cell_type": "code",
   "execution_count": 107,
   "metadata": {
    "collapsed": false
   },
   "outputs": [
    {
     "name": "stdout",
     "output_type": "stream",
     "text": [
      "F1 score for Logistic Regression: 0.679\n",
      "F1 score for Logistic Regression preprocessed: 0.689\n"
     ]
    }
   ],
   "source": [
    "# Non-preprocessed data\n",
    "vectorizer = CountVectorizer()\n",
    "vectors = vectorizer.fit_transform(train_data)\n",
    "vectors_test = vectorizer.transform(dev_data)\n",
    "lo = LogisticRegression(penalty='l2')\n",
    "lo.fit(vectors, train_labels)\n",
    "pred = lo.predict(vectors_test)\n",
    "print 'F1 score for Logistic Regression: %.3f' %(metrics.f1_score(dev_labels, \n",
    "                                                                  pred, average='macro'))\n",
    "\n",
    "# Preprocessed data, replace numbers by a single token & remove non-letters\n",
    "# lowercase=True seems to be already the default option for countvectorizer()\n",
    "def better_preprocessor(s):\n",
    "    s = s.lower()\n",
    "    s = re.sub(r'_', \"\", s)\n",
    "    match = re.match(r'[0-9]', s)\n",
    "    if match:\n",
    "        s = \"number\"\n",
    "    else:\n",
    "        s\n",
    "    return s\n",
    "vectorizer = CountVectorizer(preprocessor = better_preprocessor)\n",
    "vectors = vectorizer.fit_transform(train_data)\n",
    "vectors_test = vectorizer.transform(dev_data)\n",
    "lo = LogisticRegression(penalty='l2')\n",
    "lo.fit(vectors, train_labels)\n",
    "pred = lo.predict(vectors_test)\n",
    "print 'F1 score for Logistic Regression preprocessed: %.3f' %(metrics.f1_score(dev_labels, \n",
    "                                                                  pred, average='macro'))"
   ]
  },
  {
   "cell_type": "markdown",
   "metadata": {},
   "source": [
    "## Question 6\n",
    "\n",
    "(6) The idea of regularization is to avoid learning very large weights (which are likely to fit the training data, but not generalize well) by adding a penalty to the total size of the learned weights. That is, logistic regression seeks the set of weights that minimizes errors in the training data AND has a small size. The default regularization, L2, computes this size as the sum of the squared weights (see P3, above). L1 regularization computes this size as the sum of the absolute values of the weights. The result is that whereas L2 regularization makes all the weights relatively small, L1 regularization drives lots of the weights to 0, effectively removing unimportant features.\n",
    "\n",
    "Train a logistic regression model using a \"l1\" penalty. Output the number of learned weights that are not equal to zero. How does this compare to the number of non-zero weights you get with \"l2\"? Now, reduce the size of the vocabulary by keeping only those features that have at least one non-zero weight and retrain a model using \"l2\".\n",
    "\n",
    "Make a plot showing accuracy of the re-trained model vs. the vocabulary size you get when pruning unused features by adjusting the C parameter.\n",
    "\n",
    "Note: The gradient descent code that trains the logistic regression model sometimes has trouble converging with extreme settings of the C parameter. Relax the convergence criteria by setting tol=.01 (the default is .0001)."
   ]
  },
  {
   "cell_type": "code",
   "execution_count": 59,
   "metadata": {
    "collapsed": false
   },
   "outputs": [
    {
     "name": "stdout",
     "output_type": "stream",
     "text": [
      "Logistic regression with L2 regularization: 107516 non-zero weights\n",
      "Logistic regression with L1 regularization: 1636 non-zero weights\n"
     ]
    }
   ],
   "source": [
    "# Keep this random seed here to make comparison easier.\n",
    "np.random.seed(0)\n",
    "\n",
    "vectorizer = CountVectorizer()\n",
    "vectors = vectorizer.fit_transform(train_data)\n",
    "vectors_test = vectorizer.transform(dev_data)\n",
    "\n",
    "lo = LogisticRegression(penalty='l2', C=1.0)\n",
    "lo.fit(vectors, train_labels)\n",
    "print 'Logistic regression with L2 regularization: %d non-zero weights' %np.count_nonzero(lo.coef_)\n",
    "\n",
    "lo = LogisticRegression(penalty='l1', C=1.0)\n",
    "lo.fit(vectors, train_labels)\n",
    "pred = lo.predict(vectors_test)\n",
    "print 'Logistic regression with L1 regularization: %d non-zero weights' %np.count_nonzero(lo.coef_)\n",
    "\n",
    "# Save non-zero features under L1 regularization to reduce vocabulary\n",
    "def get_new_vocabulary(lo, vectorizer):\n",
    "    non_zero_coef = np.nonzero(lo.coef_)\n",
    "    non_zero_coef_list = non_zero_coef[1]\n",
    "    new_vocabulary = [vectorizer.get_feature_names()[i] for i in non_zero_coef_list]\n",
    "    new_vocabulary = list(set(new_vocabulary))# Remove duplicates in new_vocabulary\n",
    "    return new_vocabulary\n",
    "new_vocabulary = get_new_vocabulary(lo, vectorizer)"
   ]
  },
  {
   "cell_type": "code",
   "execution_count": 64,
   "metadata": {
    "collapsed": false
   },
   "outputs": [
    {
     "name": "stdout",
     "output_type": "stream",
     "text": [
      "Re-running the model with 977 features\n"
     ]
    },
    {
     "data": {
      "image/png": "[encoded data removed]",
      "text/plain": [
       "<matplotlib.figure.Figure at 0x113a37b10>"
      ]
     },
     "metadata": {},
     "output_type": "display_data"
    },
    {
     "data": {
      "image/png": "[encoded data removed]",
      "text/plain": [
       "<matplotlib.figure.Figure at 0x102219650>"
      ]
     },
     "metadata": {},
     "output_type": "display_data"
    }
   ],
   "source": [
    "print 'Re-running the model with %d features' %len(new_vocabulary)\n",
    "\n",
    "vectorizer = CountVectorizer(vocabulary = new_vocabulary)\n",
    "vectors = vectorizer.fit_transform(train_data)\n",
    "cs = {'C':[0.0001, 0.001, 0.01, 0.1, 0.5, 1.0, 2.0]}\n",
    "\n",
    "# L2 regularization makes the weight of the features really small but doesn't prune out features\n",
    "# While L1 regularization prunes out features -> thus the vocabulary list varies\n",
    "# Plot logistic regression with different C and L1/L2\n",
    "def plot_logistic(L, cs, vectors, train_labels, dev_data, vectors_test, vectorizer):\n",
    "    voc_size = []\n",
    "    f1_score_list = []\n",
    "    for c in cs['C']:\n",
    "        lo = LogisticRegression(penalty=L, C=c)\n",
    "        lo.fit(vectors, train_labels)\n",
    "        vectors_test = vectorizer.transform(dev_data)\n",
    "        pred = lo.predict(vectors_test)\n",
    "        voc_size.append(len(get_new_vocabulary(lo, vectorizer)))\n",
    "        f1_score = metrics.f1_score(dev_labels, pred, average='macro')\n",
    "        f1_score_list.append(f1_score)\n",
    "        #print 'C: %.3f F1 score: %.4f' %(c, metrics.f1_score(dev_labels, pred, average='macro'))\n",
    "\n",
    "    fig = plt.figure()\n",
    "    plt.plot(voc_size, f1_score_list, color='red')\n",
    "    plot_title = 'F1 score vs vocabulary size for ' + L + ' regularization'\n",
    "    fig.suptitle(plot_title, fontsize=16)\n",
    "    plt.xlabel('vocabulary size')\n",
    "    plt.ylabel('F1 score') \n",
    "    plt.show()\n",
    "\n",
    "plot_logistic('l1', cs, vectors, train_labels, dev_data, vectors_test, vectorizer)\n",
    "plot_logistic('l2', cs, vectors, train_labels, dev_data, vectors_test, vectorizer)"
   ]
  },
  {
   "cell_type": "markdown",
   "metadata": {},
   "source": [
    "## Question 7\n",
    "\n",
    "(7) Use the TfidfVectorizer -- how is this different from the CountVectorizer? Train a logistic regression model with C=100.\n",
    "\n",
    "Make predictions on the dev data and show the top 3 documents where the ratio R is largest, where R is:\n",
    "\n",
    "maximum predicted probability / predicted probability of the correct label\n",
    "\n",
    "What kinds of mistakes is the model making? Suggest a way to address one particular issue that you see."
   ]
  },
  {
   "cell_type": "code",
   "execution_count": 105,
   "metadata": {
    "collapsed": false
   },
   "outputs": [
    {
     "name": "stdout",
     "output_type": "stream",
     "text": [
      "The 3 documents where R is the largest are \n",
      "[ 162.91634371  285.59319955  669.68455264]\n",
      "document id: 471\n",
      "Why is the NT tossed out as info on Jesus.  I realize it is normally tossed\n",
      "out because it contains miracles, but what are the other reasons?\n",
      "\n",
      "MAC\n",
      "--\n",
      "****************************************************************\n",
      "                                                    Michael A. Cobb\n",
      " \"...and I won't raise taxes on the middle     University of Illinois\n",
      "    class to pay for my programs.\"                 Champaign-Urbana\n",
      "          -Bill Clinton 3rd Debate             cobb@alexia.lis.uiuc.edu\n",
      "document id: 655\n",
      "In <1ren9a$94q@morrow.stanford.edu> salem@pangea.Stanford.EDU (Bruce Salem) \n",
      "\n",
      "\n",
      "\n",
      "This brings up another something I have never understood.  I asked this once\n",
      "before and got a few interesting responses, but somehow didn't seem satisfied.\n",
      "Why would the NT NOT be considered a good source.  This might be a \n",
      "literary/historical question, but when I studied history I always looked for \n",
      "firsthand original sources to write my papers.  If the topic was on Mr. X, I \n",
      "looked to see if Mr. X wrote anything about it.  If the topic was on a group, \n",
      "look for the group, etc.  If the topic is on Mr. X, and Mr. X did not write \n",
      "anything about it, (barring the theistic response about the Bible being \n",
      "divinely inspired which I can't adequately argue), wouldn't we look for people\n",
      "who ate, worked, walked, talked, etc. with him?  If someone was at an event \n",
      "wouldn't they be a better \"reporter\" than someone who heard about it second \n",
      "hand?  I guess isn't firsthand better than second hand.  I know, there is bias,\n",
      "and winners writing history, but doesn't the principle of firsthand being best\n",
      "still apply?\n",
      "\n",
      "MAC\n",
      "--\n",
      "****************************************************************\n",
      "                                                    Michael A. Cobb\n",
      " \"...and I won't raise taxes on the middle     University of Illinois\n",
      "    class to pay for my programs.\"                 Champaign-Urbana\n",
      "          -Bill Clinton 3rd Debate             cobb@alexia.lis.uiuc.edu\n",
      "document id: 215\n",
      "I am pleased to announce that a *revised version* of _The Easy-to-Read Book\n",
      "of Mormon_ (former title: _Mormon's Book_) by Lynn Matthews Anderson is now\n",
      "available through anonymous ftp (see information below). In addition to the\n",
      "change in title, the revised ETR BOM has been shortened by several pages\n",
      "(eliminating many extraneous \"that's\" and \"of's\"), and many (minor) errors\n",
      "have been corrected. This release includes a simplified Joseph Smith Story,\n",
      "testimonies of the three and eight witnesses, and a \"Words-to-Know\"\n",
      "glossary.\n",
      "\n",
      "As with the previous announcement, readers are reminded that this is a\n",
      "not-for-profit endeavor. This is a copyrighted work, but people are welcome\n",
      "to make *verbatim* copies for personal use. People can recuperate the\n",
      "actual costs of printing (paper, copy center charges), but may not charge\n",
      "anything for their time in making copies, or in any way realize a profit\n",
      "from the use of this book. See the permissions notice in the book itself\n",
      "for the precise terms.\n",
      "\n",
      "Negotiations are currently underway with a Mormon publisher vis-a-vis the\n",
      "printing and distribution of bound books. (Sorry, I'm out of the wire-bound\n",
      "\"first editions.\") I will make another announcement about the availability\n",
      "of printed copies once everything has been worked out.\n",
      "\n",
      "FTP information: connect via anonymous ftp to carnot.itc.cmu.edu, then \"cd\n",
      "pub\" (you won't see anything at all until you do).\n",
      "\n",
      "\"The Easy-to-Read Book of Mormon\" is currently available in postscript and\n",
      "RTF (rich text format). (ASCII, LaTeX, and other versions can be made\n",
      "available; contact dba@andrew.cmu.edu for details.) You should be able to\n",
      "print the postscript file on any postscript printer (such as an Apple\n",
      "Laserwriter); let dba know if you have any difficulties. (The postscript in\n",
      "the last release had problems on some printers; this time it should work\n",
      "better.) RTF is a standard document interchange format that can be read in\n",
      "by a number of word processors, including Microsoft Word for both the\n",
      "Macintosh and Windows. If you don't have a postscript printer, you may be\n",
      "able to use the RTF file to print out a copy of the book.\n",
      "\n",
      "-r--r--r--  1 dba                   1984742 Apr 27 13:12 etrbom.ps\n",
      "-r--r--r--  1 dba                   1209071 Apr 27 13:13 etrbom.rtf\n",
      "\n",
      "For more information about how this project came about, please refer to my\n",
      "article in the current issue of _Sunstone_, entitled \"Delighting in\n",
      "Plainness: Issues Surrounding a Simple Modern English Book of Mormon.\"\n",
      "\n",
      "Send all inquiries and comments to:\n",
      "\n",
      "    Lynn Matthews Anderson\n",
      "    5806 Hampton Street\n",
      "    Pittsburgh, PA 15206\n"
     ]
    }
   ],
   "source": [
    "#train on trigram\n",
    "trigram_vectorizer = TfidfVectorizer(ngram_range=(1, 3), min_df=1)\n",
    "vectors = trigram_vectorizer.fit_transform(train_data)\n",
    "vectors_test = trigram_vectorizer.transform(dev_data)\n",
    "lo = LogisticRegression(penalty='l2', C=100.0)\n",
    "lo.fit(vectors, train_labels)\n",
    "\n",
    "# Get R = maximum predicted probability / probability of the dev label\n",
    "prob_dev_label = np.zeros(dev_labels.shape[0])\n",
    "max_predic_proba = np.zeros(dev_labels.shape[0])\n",
    "R = max_predic_proba = np.zeros(dev_labels.shape[0])\n",
    "\n",
    "for i in range(0, lo.predict_proba(vectors_test).shape[0]):\n",
    "    j = dev_labels[i]\n",
    "    prob_dev_label[i] = lo.predict_proba(vectors_test)[i, j]\n",
    "    index = lo.predict_proba(vectors_test)[i].argmax()\n",
    "    max_predic_proba[i] = lo.predict_proba(vectors_test)[i, index]\n",
    "    R[i] = max_predic_proba[i] / prob_dev_label[i]\n",
    "top_3_R = R.argsort()[-3:]\n",
    "print 'The 3 documents where R is the largest are '\n",
    "print R[top_3_R]\n",
    "\n",
    "for i in top_3_R:\n",
    "    print 'document id: %d' %i\n",
    "    print dev_data[i]"
   ]
  },
  {
   "cell_type": "markdown",
   "metadata": {},
   "source": [
    "ANSWER: CountVectorizer followed by TfidfTransformer. TFidf re-weights words such as  “the”, “a”, “is” in English that are being present is every document, thus carry low information. The issue we have here is around calibration - as the model tends to be overconfident on certain labels. We could here reduce C (at 100) which would increase the regularization factor to compensentate this issue."
   ]
  },
  {
   "cell_type": "markdown",
   "metadata": {},
   "source": [
    "(8) EXTRA CREDIT\n",
    "\n",
    "Try implementing one of your ideas based on your error analysis. Use logistic regression as your underlying model."
   ]
  },
  {
   "cell_type": "code",
   "execution_count": null,
   "metadata": {
    "collapsed": true
   },
   "outputs": [],
   "source": []
  }
 ],
 "metadata": {
  "anaconda-cloud": {},
  "kernelspec": {
   "display_name": "Python [Root]",
   "language": "python",
   "name": "Python [Root]"
  },
  "language_info": {
   "codemirror_mode": {
    "name": "ipython",
    "version": 2
   },
   "file_extension": ".py",
   "mimetype": "text/x-python",
   "name": "python",
   "nbconvert_exporter": "python",
   "pygments_lexer": "ipython2",
   "version": "2.7.12"
  }
 },
 "nbformat": 4,
 "nbformat_minor": 0
}
